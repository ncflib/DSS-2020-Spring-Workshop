{
 "cells": [
  {
   "cell_type": "markdown",
   "metadata": {},
   "source": [
    "# Welcome\n",
    "\n",
    "For this workshop, we've set up a coding environment, with the necessary tools and data already preloaded. The interface that you're using is called Jupyter - which allows you to interact with code in your browser, though a format called a 'notebook'. In addition to being in the browser, Jupyter is pleasant because it's interactive, so you can interact with your code. The traditional way of running code involves writing a script and running the whole thing; the interactive approach used by Jupyter is better for data analysis, because you explore, tinker, and converse with your data.\n",
    "\n",
    "In this workshop, we're working in the browser, with Jupyter, Python and all the corresponding data installed on somebody else's computer, but it can be run on your own computers. While you're in the browser, keep in mind that your custom code is ephemeral - it won't stay saved for the long term.\n",
    "\n",
    "Welcome to a Jupyer notebook. Let's get comfortable with Jupyter before we dive into the fun bits. \n",
    "\n",
    "Jupyter is one of many execution environtments for Python and R. It allows you to run code in the cloud, without having to install dependencies and all the other stuff.\n",
    "\n",
    "\"Script-like\" execution means that you write down all the code in a file, and that entire file is run in order.\n",
    "\n",
    "\"Interpreter-like\" execution means that you type in commands one at a time. The session pauses after each, waiting for the next command. This is really similar to how the command line is run.\n",
    "\n",
    "Jupyter is a hybrid of both those things. Notebooks are composed of cells. Then the cells are executed (almost like mini scripts). This gives you the advantage of keeping the session alive so you don't have to repeat loading data, etc., and the advantage of being able to execute multiple lines of code at the same time. It's also really easy to iterate through problems in a Jupyter environment — try something, meet the error head on, resolve it, and continue, cell by cell.\n",
    "\n",
    "Jupyter is extremely powerful, but there are a few traps.\n",
    "\n",
    "Let's get comfortable with cells first."
   ]
  },
  {
   "cell_type": "markdown",
   "metadata": {},
   "source": [
    "# Basics\n",
    "\n",
    "Let's spend some time getting to know basic Python features. \n",
    "\n",
    "The print() function asks the computer to return a specific value (literally asking the computer to print what you want to the terminal). \n",
    "\n",
    "Click on the code chunk below and press SHIFT + ENTER. "
   ]
  },
  {
   "cell_type": "code",
   "execution_count": 85,
   "metadata": {},
   "outputs": [
    {
     "name": "stdout",
     "output_type": "stream",
     "text": [
      "This is a string. It's being returned to your console. Cool!\n"
     ]
    }
   ],
   "source": [
    "print(\"This is a string. It's being returned to your console. Cool!\")"
   ]
  },
  {
   "cell_type": "markdown",
   "metadata": {},
   "source": [
    "SHIFT + ENTER executes a chunk of code. Try changing the text inside the quotation marks and press SHIFT + ENTER again. The output will be rendered in the subsequent chunk. Try it again in the following chunk."
   ]
  },
  {
   "cell_type": "code",
   "execution_count": 86,
   "metadata": {},
   "outputs": [
    {
     "name": "stdout",
     "output_type": "stream",
     "text": [
      "John Smith, 27\n"
     ]
    }
   ],
   "source": [
    "name = \"John Smith\"\n",
    "age = \"27\"\n",
    "print(name + ', ' +  age)"
   ]
  },
  {
   "cell_type": "markdown",
   "metadata": {},
   "source": [
    "The previous chunk of code uses variables. Variables represent other things (in this case, the variable 'name' is a standin for \"John Smith\"; the variable 'age' is a standin for \"27\") The advantage of variables is that they can be assigned once and used multiple times throughout. They can also be reassigned.\n",
    "\n",
    "Run the final chunk below."
   ]
  },
  {
   "cell_type": "code",
   "execution_count": 87,
   "metadata": {},
   "outputs": [
    {
     "name": "stdout",
     "output_type": "stream",
     "text": [
      "What is your name?: Cal\n",
      "What is your age?: 27\n",
      "Where are you from?: Windsor\n",
      "Your name is: Cal. You are 27 years old. You are from Windsor.\n"
     ]
    }
   ],
   "source": [
    "name = input('What is your name?: ')\n",
    "age = input('What is your age?: ')\n",
    "city = input('Where are you from?: ')\n",
    "\n",
    "print('Your name is: ' + name + '. You are ' + age + ' years old.' + ' You are from ' + city + '.')"
   ]
  },
  {
   "cell_type": "markdown",
   "metadata": {},
   "source": [
    "Can you explain what happened in the previous chunk? \n",
    "\n",
    "If you said that we are saving an input to a variable and then requesting the computer to return those variables, you got it! "
   ]
  },
  {
   "cell_type": "markdown",
   "metadata": {},
   "source": [
    "# Importing our tools\n",
    "\n",
    "Okay, so we now have a bit of an understanding about how Python works. While Python is a powerful language that can do many things, developers have made it easier for us to carry out specific tasks by creating 'libraries' that enable us to carry out tasks, like language processing, more easily. \n",
    "\n",
    "These libraries are additions to vanilla Python, so we have to import them. Press SHIFT + ENTER in the following chunk to import a few libraries that we'll be using throughout this lesson.\n"
   ]
  },
  {
   "cell_type": "code",
   "execution_count": 35,
   "metadata": {},
   "outputs": [],
   "source": [
    "import matplotlib.pyplot as plt # visualizing library\n",
    "import nltk # natural language processing library\n",
    "import textify # text cleaning library"
   ]
  },
  {
   "cell_type": "markdown",
   "metadata": {},
   "source": [
    "Great. Now we have the tools that we need to carry out some basic text analysis and visualize it. By the way, the \"#\" above means that those lines are commented out — they're just there to explain what we're doing. "
   ]
  },
  {
   "cell_type": "markdown",
   "metadata": {},
   "source": [
    "# Importing our data\n",
    "\n",
    "Now that we have our tools we can get to work, but first, we need to import our data. The following lines of code  will load *OUR SAMPLE* data into a variable called data. If you want to use your own data for this lesson, let us know."
   ]
  },
  {
   "cell_type": "code",
   "execution_count": 57,
   "metadata": {},
   "outputs": [
    {
     "name": "stdout",
     "output_type": "stream",
     "text": [
      "ADVICE TO YOUNG MEN ON THEIR DUTIES AND CONDUCT IN LIFE\n",
      "\n",
      "BY T. S. ARTHUR, AUTHOR OF \"THE MAIDEN, \" \"WIFE,\" AND \"MOTHER.\"\n",
      "\n",
      "\n",
      "\n",
      "Phillips, Sampson & Company's Publications.\n",
      "\n",
      "ADVICE TO YOUNG LADIES ON THEIR DUTIES AND CONDUCT IN LIFE. By T. S. ARTHUR. Price 75 cents.\n",
      "\n",
      "Right modes of thinking are the basis of all correct action. It is from this cause that we shall, in addressing our young friends on their duties and conduct in life, appeal at once to their rational faculty. To learn to think right is, therefore, a matter of primary concern. If there be right modes of thinking, right actions will follow as a natural consequence.--Extract from the author's introduction.\n",
      "\n",
      "ADVICE TO YOUNG MEN ON THEIR DUTIES AND CONDUCT IN LIFE. By. T. S. ARTHUR. Price 75 cents.\n",
      "\n",
      "The aim of the author of this volume has been to lead young men to just conclusions, from reflections upon what they are, and what are their duties in society as integral parts of the common body. Satisfied that those who read it as it s\n"
     ]
    }
   ],
   "source": [
    "text = open('dss-sample-data.txt','r').read() # change 'dss-sample-data.txt' to the name of your sample data.\n",
    "print(text[:1000])"
   ]
  },
  {
   "cell_type": "markdown",
   "metadata": {},
   "source": [
    "This line of code assigns the sample data to the variable 'data'. This is cool, because we can now analyze our text without having to type 'open('dss-sample-data.txt', 'r')' every time we want to do something with it. That's one of the cool things about variables.\n",
    "\n",
    "Let's first review our text document to make sure it's what we want. In pseudo-code, the following chunk asks the computer to return the text of the data file. Then we save that output to a variable so that we can call on it whenver we want.\n",
    "\n",
    "\n",
    "Press SHIFT + ENTER in the following chunk."
   ]
  },
  {
   "cell_type": "code",
   "execution_count": null,
   "metadata": {},
   "outputs": [],
   "source": []
  },
  {
   "cell_type": "markdown",
   "metadata": {},
   "source": [
    "Great. It's displaying properly, which means that we have successfully loaded the file to the data variable. "
   ]
  },
  {
   "cell_type": "markdown",
   "metadata": {},
   "source": [
    "# Cleaning\n",
    "\n",
    "Our text is pretty clean (it was transcribed and annotated by hand, so it better be!) but before we work on it we need to do a few things. Notice how there are random characters, like \\n\\n (new line symbols)? These are all hidden characters that you don't see when you're typing, but that exist to format a document to your liking. We need to get rid of them, as well as a few other things:\n",
    "\n",
    "1) Remove capitalizations\n",
    "2) Remove punctuation\n",
    "3) Remove numbers\n",
    "4) Apply stopwords\n",
    "\n",
    "We'll do that by using one of the tools (libraries) we imported previously! Textify! There are a lot of different ways to do this work, and there are better (more thorough) ways to do it, but textify makes it really easy for us. Execute the chunk of code below by pressing SHIFT + ENTER."
   ]
  },
  {
   "cell_type": "code",
   "execution_count": 64,
   "metadata": {},
   "outputs": [
    {
     "name": "stdout",
     "output_type": "stream",
     "text": [
      "advice to young men on their duties and conduct in lifeby t s arthur author of the maiden  wife and motherphillips sampson  companys publicationsadvice to young ladies on their duties and conduct in life by t s arthur price  centsright modes of thinking are the basis of all correct action it is from this cause that we shall in addressing our young friends on their duties and conduct in life appeal at once to their rational faculty to learn to think right is therefore a matter of primary concern if there be right modes of thinking right actions will follow as a natural consequenceextract from the authors introductionadvice to young men on their duties and conduct in life by t s arthur price  centsthe aim of the author of this volume has been to lead young men to just conclusions from reflections upon what they are and what are their duties in society as integral parts of the common body satisfied that those who read it as it should be read cannot fail to have their good purposes strengt\n"
     ]
    }
   ],
   "source": [
    "from textify import TextCleaner # we import a particular function from the library, Textify\n",
    "textcleaner = TextCleaner() # \n",
    "textcleaner.text = text # Taking the text and cleaning it with the utility function\n",
    "cleantext = textcleaner.clean_text() # printing the first 1000 characters from the above.\n",
    "print(cleantext[0:1000])"
   ]
  },
  {
   "cell_type": "markdown",
   "metadata": {},
   "source": [
    "Notice what happened? The Textify library manipulated your text. Name a few of the changes that you notice. \n",
    "\n",
    "Your text can definitely be more clean, but for now, this is good enough. Let's visualize word frequencies."
   ]
  },
  {
   "cell_type": "markdown",
   "metadata": {},
   "source": [
    "# Word frequencies"
   ]
  },
  {
   "cell_type": "markdown",
   "metadata": {},
   "source": [
    "Our clean text is ready to go (somewhat normalized). We need to split up this mass of prose into individual words, or tokens, and then count the number of times they appear. Let's do that next."
   ]
  },
  {
   "cell_type": "code",
   "execution_count": 66,
   "metadata": {},
   "outputs": [
    {
     "name": "stdout",
     "output_type": "stream",
     "text": [
      "['advice', 'to', 'young', 'men', 'on', 'their', 'duties', 'and', 'conduct', 'in', 'lifeby', 't', 's', 'arthur', 'author', 'of', 'the', 'maiden', 'wife', 'and', 'motherphillips', 'sampson', 'companys', 'publicationsadvice', 'to', 'young', 'ladies', 'on', 'their', 'duties', 'and', 'conduct', 'in', 'life', 'by', 't', 's', 'arthur', 'price', 'centsright', 'modes', 'of', 'thinking', 'are', 'the', 'basis', 'of', 'all', 'correct', 'action', 'it', 'is', 'from', 'this', 'cause', 'that', 'we', 'shall', 'in', 'addressing', 'our', 'young', 'friends', 'on', 'their', 'duties', 'and', 'conduct', 'in', 'life', 'appeal', 'at', 'once', 'to', 'their', 'rational', 'faculty', 'to', 'learn', 'to', 'think', 'right', 'is', 'therefore', 'a', 'matter', 'of', 'primary', 'concern', 'if', 'there', 'be', 'right', 'modes', 'of', 'thinking', 'right', 'actions', 'will', 'follow', 'as', 'a', 'natural', 'consequenceextract', 'from', 'the', 'authors', 'introductionadvice', 'to', 'young', 'men', 'on', 'their', 'duties', 'and', 'conduct', 'in', 'life', 'by', 't', 's', 'arthur', 'price', 'centsthe', 'aim', 'of', 'the', 'author', 'of', 'this', 'volume', 'has', 'been', 'to', 'lead', 'young', 'men', 'to', 'just', 'conclusions', 'from', 'reflections', 'upon', 'what', 'they', 'are', 'and', 'what', 'are', 'their', 'duties', 'in', 'society', 'as', 'integral', 'parts', 'of', 'the', 'common', 'body', 'satisfied', 'that', 'those', 'who', 'read', 'it', 'as', 'it', 'should', 'be', 'read', 'can', 'not', 'fail', 'to', 'have', 'their', 'good', 'purposes', 'strengthened', 'and', 'their', 'minds', 'elevated', 'into', 'sounder', 'views', 'of', 'life', 'than', 'usually', 'prevail', 'the', 'writer', 'dismisses', 'it', 'from', 'his', 'hands', 'and', 'turns', 'to', 'other', 'matters', 'demanding', 'his', 'attentionauthors', 'prefacethe', 'young', 'ladys', 'offering', 'or', 'gems', 'of', 'prose', 'and', 'poetry', 'by', 'mrs', 'l', 'h', 'sigourney', 'and', 'others', 'illustrated', 'with', 'four', 'steel', 'engravingsthe', 'above', 'is', 'prepared', 'especially', 'as', 'a', 'giftbook', 'for', 'young', 'ladies', 'embracing', 'a', 'choice', 'arrangement', 'of', 'prose', 'and', 'poetic', 'combination', 'adapting', 'it', 'particularly', 'as', 'its', 'title', 'indicates', 'as', 'an', 'acceptable', 'offering', 'to', 'young', 'ladies', 'price', 'the', 'young', 'mans', 'offering', 'comprising', 'prose', 'and', 'poetical', 'writings', 'of', 'the', 'most', 'eminent', 'authorsthis', 'work', 'is', 'intended', 'to', 'be', 'as', 'its', 'title', 'indicates', 'a', 'useful', 'and', 'entertaining', 'companion', 'to', 'young', 'men', 'which', 'may', 'cheer', 'them', 'in', 'hours', 'of', 'languor', 'and', 'of', 'sickness', 'and', 'when', 'the', 'mind', 'exhausted', 'by', 'its', 'efforts', 'seeks', 'in', 'amusement', 'for', 'the', 'restoration', 'of', 'its', 'wonted', 'powers', 'illustrated', 'with', 'numerous', 'engravings', 'price', 'representative', 'men', 'seven', 'lectures', 'i', 'uses', 'of', 'great', 'men', 'ii', 'plato', 'or', 'the', 'philosopher', 'iii', 'swedenborg', 'or', 'the', 'mystic', 'iv', 'montaigne', 'or', 'the', 'sceptic', 'v', 'shakspeare', 'or', 'the', 'poet', 'vi', 'napoleon', 'or', 'the', 'man', 'of', 'the', 'world', 'vii', 'goethe', 'or', 'the', 'writer', 'by', 'ralph', 'waldo', 'emerson', 'vol', 'mo', 'cloth', 'price', 'ralph', 'waldo', 'emerson', 'is', 'one', 'of', 'the', 'most', 'pure', 'and', 'poetic', 'men', 'of', 'this', 'or', 'any', 'other', 'age', 'an', 'accomplished', 'scholar', 'a', 'devoted', 'student', 'a', 'rapt', 'spiritualist', 'and', 'a', 'perfect', 'gentlemanhis', 'platonic', 'utterances', 'command', 'a', 'hearing', 'in', 'both', 'hemispheres', 'and', 'if', 'we', 'mistake', 'not', 'the', 'echoes', 'of', 'his', 'lofty', 'words', 'will', 'ring', 'through', 'the', 'remotest', 'future', 'to', 'know', 'what', 'a', 'great', 'man', 'like', 'emerson', 'thinks', 'of', 'those', 'human', 'stars', 'which', 'shone', 'not', 'for', 'a', 'but', 'for', 'all', 'time', 'will', 'be', 'sufficient', 'inducement', 'for', 'thousands', 'to', 'purchase', 'a', 'copy', 'of', 'his', 'representative', 'mennew', 'york', 'mirrorlife', 'and', 'religion', 'of', 'mohammed', 'as', 'contained', 'in', 'the', 'sheeah', 'traditions', 'of', 'the', 'hytulkuloob', 'translated', 'from', 'the', 'persian', 'by', 'rev', 'james', 'l', 'merrick', 'eleven', 'years', 'missionary', 'to', 'the', 'persians']\n"
     ]
    }
   ],
   "source": [
    "# split into words\n",
    "from nltk.tokenize import word_tokenize  # import a particular library and specific functions\n",
    "tokens = word_tokenize(cleantext) # setting the output of word_tokenize() to the variable tokens\n",
    "print(words[0:500]) # printing the first 1000 tokenized words!"
   ]
  },
  {
   "cell_type": "code",
   "execution_count": 67,
   "metadata": {},
   "outputs": [
    {
     "name": "stderr",
     "output_type": "stream",
     "text": [
      "[nltk_data] Downloading package stopwords to\n",
      "[nltk_data]     /Users/MurguDev/nltk_data...\n",
      "[nltk_data]   Package stopwords is already up-to-date!\n"
     ]
    },
    {
     "data": {
      "text/plain": [
       "True"
      ]
     },
     "execution_count": 67,
     "metadata": {},
     "output_type": "execute_result"
    }
   ],
   "source": [
    "import nltk\n",
    "nltk.download('stopwords')"
   ]
  },
  {
   "cell_type": "code",
   "execution_count": 82,
   "metadata": {},
   "outputs": [
    {
     "name": "stdout",
     "output_type": "stream",
     "text": [
      "['i', 'me', 'my', 'myself', 'we', 'our', 'ours', 'ourselves', 'you', \"you're\", \"you've\", \"you'll\", \"you'd\", 'your', 'yours', 'yourself', 'yourselves', 'he', 'him', 'his', 'himself', 'she', \"she's\", 'her', 'hers', 'herself', 'it', \"it's\", 'its', 'itself', 'they', 'them', 'their', 'theirs', 'themselves', 'what', 'which', 'who', 'whom', 'this', 'that', \"that'll\", 'these', 'those', 'am', 'is', 'are', 'was', 'were', 'be', 'been', 'being', 'have', 'has', 'had', 'having', 'do', 'does', 'did', 'doing', 'a', 'an', 'the', 'and', 'but', 'if', 'or', 'because', 'as', 'until', 'while', 'of', 'at', 'by', 'for', 'with', 'about', 'against', 'between', 'into', 'through', 'during', 'before', 'after', 'above', 'below', 'to', 'from', 'up', 'down', 'in', 'out', 'on', 'off', 'over', 'under', 'again', 'further', 'then', 'once', 'here', 'there', 'when', 'where', 'why', 'how', 'all', 'any', 'both', 'each', 'few', 'more', 'most', 'other', 'some', 'such', 'no', 'nor', 'not', 'only', 'own', 'same', 'so', 'than', 'too', 'very', 's', 't', 'can', 'will', 'just', 'don', \"don't\", 'should', \"should've\", 'now', 'd', 'll', 'm', 'o', 're', 've', 'y', 'ain', 'aren', \"aren't\", 'couldn', \"couldn't\", 'didn', \"didn't\", 'doesn', \"doesn't\", 'hadn', \"hadn't\", 'hasn', \"hasn't\", 'haven', \"haven't\", 'isn', \"isn't\", 'ma', 'mightn', \"mightn't\", 'mustn', \"mustn't\", 'needn', \"needn't\", 'shan', \"shan't\", 'shouldn', \"shouldn't\", 'wasn', \"wasn't\", 'weren', \"weren't\", 'won', \"won't\", 'wouldn', \"wouldn't\"]\n"
     ]
    }
   ],
   "source": [
    "from nltk.corpus import stopwords\n",
    "stop_words = stopwords.words('english')\n",
    "print(stop_words)\n"
   ]
  },
  {
   "cell_type": "code",
   "execution_count": 83,
   "metadata": {},
   "outputs": [
    {
     "name": "stdout",
     "output_type": "stream",
     "text": [
      "['ADVICE', 'TO', 'YOUNG', 'MEN', 'ON', 'THEIR', 'DUTIES', 'AND', 'CONDUCT', 'IN', 'LIFE', 'BY', 'ARTHUR', 'AUTHOR', 'OF', 'THE', 'MAIDEN', 'WIFE', 'AND', 'MOTHER', 'Phillips', 'Sampson', 'Company', 'Publications', 'ADVICE', 'TO', 'YOUNG', 'LADIES', 'ON', 'THEIR', 'DUTIES', 'AND', 'CONDUCT', 'IN', 'LIFE', 'By', 'ARTHUR', 'Price', 'cents', 'Right', 'modes', 'thinking', 'basis', 'correct', 'action', 'It', 'cause', 'shall', 'addressing', 'young', 'friends', 'duties', 'conduct', 'life', 'appeal', 'rational', 'faculty', 'To', 'learn', 'think', 'right', 'therefore', 'matter', 'primary', 'concern', 'If', 'right', 'modes', 'thinking', 'right', 'actions', 'follow', 'natural', 'Extract', 'author', 'introduction', 'ADVICE', 'TO', 'YOUNG', 'MEN', 'ON', 'THEIR', 'DUTIES', 'AND', 'CONDUCT', 'IN', 'LIFE', 'By', 'ARTHUR', 'Price', 'cents', 'The', 'aim', 'author', 'volume', 'lead', 'young', 'men', 'conclusions', 'reflections']\n"
     ]
    }
   ],
   "source": [
    "from nltk.corpus import stopwords\n",
    "stop_words = set(stopwords.words('english'))\n",
    "words = [w for w in words if not w in stop_words]\n",
    "print(words[:100])"
   ]
  },
  {
   "cell_type": "code",
   "execution_count": null,
   "metadata": {},
   "outputs": [],
   "source": []
  },
  {
   "cell_type": "code",
   "execution_count": null,
   "metadata": {},
   "outputs": [],
   "source": []
  },
  {
   "cell_type": "code",
   "execution_count": null,
   "metadata": {},
   "outputs": [],
   "source": []
  },
  {
   "cell_type": "code",
   "execution_count": null,
   "metadata": {},
   "outputs": [],
   "source": []
  },
  {
   "cell_type": "code",
   "execution_count": null,
   "metadata": {},
   "outputs": [],
   "source": []
  }
 ],
 "metadata": {
  "kernelspec": {
   "display_name": "Python 3",
   "language": "python",
   "name": "python3"
  },
  "language_info": {
   "codemirror_mode": {
    "name": "ipython",
    "version": 3
   },
   "file_extension": ".py",
   "mimetype": "text/x-python",
   "name": "python",
   "nbconvert_exporter": "python",
   "pygments_lexer": "ipython3",
   "version": "3.7.4"
  }
 },
 "nbformat": 4,
 "nbformat_minor": 4
}
