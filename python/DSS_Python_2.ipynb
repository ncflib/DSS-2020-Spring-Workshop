{
 "cells": [
  {
   "cell_type": "markdown",
   "metadata": {},
   "source": [
    "# Welcome\n",
    "\n",
    "For this workshop, we've set up a coding environment, with the necessary tools and data already preloaded. The interface that you're using is called Jupyter - which allows you to interact with code in your browser, though a format called a 'notebook'. In addition to being in the browser, Jupyter is pleasant because it's interactive, so you can interact with your code. The traditional way of running code involves writing a script and running the whole thing; the interactive approach used by Jupyter is better for data analysis, because you explore, tinker, and converse with your data.\n",
    "\n",
    "In this workshop, we're working in the browser, with Jupyter, Python and all the corresponding data installed on somebody else's computer, but it can be run on your own computers. While you're in the browser, keep in mind that your custom code is ephemeral - it won't stay saved for the long term.\n",
    "\n",
    "Welcome to a Jupyer notebook. Let's get comfortable with Jupyter before we dive into the fun bits. \n",
    "\n",
    "Jupyter is one of many execution environtments for Python and R. It allows you to run code in the cloud, without having to install dependencies and all the other stuff.\n",
    "\n",
    "\"Script-like\" execution means that you write down all the code in a file, and that entire file is run in order.\n",
    "\n",
    "\"Interpreter-like\" execution means that you type in commands one at a time. The session pauses after each, waiting for the next command. This is really similar to how the command line is run.\n",
    "\n",
    "Jupyter is a hybrid of both those things. Notebooks are composed of cells. Then the cells are executed (almost like mini scripts). This gives you the advantage of keeping the session alive so you don't have to repeat loading data, etc., and the advantage of being able to execute multiple lines of code at the same time. It's also really easy to iterate through problems in a Jupyter environment — try something, meet the error head on, resolve it, and continue, cell by cell.\n",
    "\n",
    "Jupyter is extremely powerful, but there are a few traps.\n",
    "\n",
    "Let's get comfortable with cells first."
   ]
  },
  {
   "cell_type": "markdown",
   "metadata": {},
   "source": [
    "# Basics\n",
    "\n",
    "Let's spend some time getting to know basic Python features. \n",
    "\n",
    "The print() function asks the computer to return a specific value (literally asking the computer to print what you want to the terminal). \n",
    "\n",
    "Click on the code chunk below and press SHIFT + ENTER. "
   ]
  },
  {
   "cell_type": "code",
   "execution_count": 31,
   "metadata": {},
   "outputs": [
    {
     "name": "stdout",
     "output_type": "stream",
     "text": [
      "This is a string. It's being returned to your console. Cool!\n"
     ]
    }
   ],
   "source": [
    "print(\"This is a string. It's being returned to your console. Cool!\")"
   ]
  },
  {
   "cell_type": "markdown",
   "metadata": {},
   "source": [
    "SHIFT + ENTER executes a chunk of code. Try changing the text inside the quotation marks and press SHIFT + ENTER again. The output will be rendered in the subsequent chunk. Try it again in the following chunk."
   ]
  },
  {
   "cell_type": "code",
   "execution_count": 11,
   "metadata": {},
   "outputs": [
    {
     "name": "stdout",
     "output_type": "stream",
     "text": [
      "John Smith, 27\n"
     ]
    }
   ],
   "source": [
    "name = \"John Smith\"\n",
    "age = \"27\"\n",
    "print(name + ', ' +  age)"
   ]
  },
  {
   "cell_type": "markdown",
   "metadata": {},
   "source": [
    "The previous chunk of code uses variables. Variables represent other things (in this case, the variable 'name' is a standin for \"John Smith\"; the variable 'age' is a standin for \"27\") The advantage of variables is that they can be assigned once and used multiple times throughout. They can also be reassigned.\n",
    "\n",
    "Run the final chunk below."
   ]
  },
  {
   "cell_type": "code",
   "execution_count": 12,
   "metadata": {},
   "outputs": [
    {
     "name": "stdout",
     "output_type": "stream",
     "text": [
      "What is your name?: \n",
      "What is your age?: \n",
      "Where are you from?: \n",
      "Your name is: . You are  years old. You are from .\n"
     ]
    }
   ],
   "source": [
    "name = input('What is your name?: ')\n",
    "age = input('What is your age?: ')\n",
    "city = input('Where are you from?: ')\n",
    "\n",
    "print('Your name is: ' + name + '. You are ' + age + ' years old.' + ' You are from ' + city + '.')"
   ]
  },
  {
   "cell_type": "markdown",
   "metadata": {},
   "source": [
    "Can you explain what happened in the previous chunk? \n",
    "\n",
    "If you said that we are saving an input to a variable and then requesting the computer to return those variables, you got it! "
   ]
  },
  {
   "cell_type": "markdown",
   "metadata": {},
   "source": [
    "# Importing our tools\n",
    "\n",
    "Okay, so we now have a bit of an understanding about how Python works. While Python is a powerful language that can do many things, developers have made it easier for us to carry out specific tasks by creating 'libraries' that enable us to carry out tasks, like language processing, more easily. \n",
    "\n",
    "These libraries are additions to vanilla Python, so we have to import them. Press SHIFT + ENTER in the following chunk to import a few libraries that we'll be using throughout this lesson.\n"
   ]
  },
  {
   "cell_type": "code",
   "execution_count": 67,
   "metadata": {},
   "outputs": [],
   "source": [
    "import matplotlib.pyplot as plt\n",
    "import nltk # natural language processing library\n",
    "import textify # text cleaning library"
   ]
  },
  {
   "cell_type": "markdown",
   "metadata": {},
   "source": [
    "Great. Now we have the tools that we need to carry out some basic text analysis and visualize it. By the way, the \"#\" above means that those lines are commented out — they're just there to explain what we're doing. "
   ]
  },
  {
   "cell_type": "markdown",
   "metadata": {},
   "source": [
    "# Importing our data\n",
    "\n",
    "Now that we have our tools we can get to work, but first, we need to import our data. The following lines of code  will load *OUR SAMPLE* data into a variable called data. If you want to use your own data for this lesson, let us know."
   ]
  },
  {
   "cell_type": "code",
   "execution_count": 145,
   "metadata": {},
   "outputs": [
    {
     "name": "stdout",
     "output_type": "stream",
     "text": [
      "CHAPTER I\n",
      "\n",
      "\n",
      "Emma Woodhouse, handsome, clever, and rich, with a comfortable home\n",
      "and happy disposition, seemed to unite some of the best blessings of\n",
      "existence; and had lived nearly twenty-one years in the world with very\n",
      "little to distress or vex her.\n",
      "\n",
      "She was the youngest of the two daughters of a most affectionate,\n",
      "indulgent father; and had, in consequence of her sister's marriage, been\n",
      "mistress of his house from a very early period. Her mother had died\n",
      "too long ago for her to have more than an indistinct remembrance of\n",
      "her caresses; and her place had been supplied by an excellent woman as\n",
      "governess, who had fallen little short of a mother in affection.\n",
      "\n",
      "Sixteen years had Miss Taylor been in Mr. Woodhouse's family, less as a\n",
      "governess than a friend, very fond of both daughters, but particularly\n",
      "of Emma. Between _them_ it was more the intimacy of sisters. Even before\n",
      "Miss Taylor had ceased to hold the nominal office of governess, the\n",
      "mildness of her temper had hardly allowed her to im\n"
     ]
    }
   ],
   "source": [
    "text = open('dss-sample-data.txt','r').read() # change 'dss-sample-data.txt' to the name of your sample data.\n",
    "print(text[:1000])"
   ]
  },
  {
   "cell_type": "markdown",
   "metadata": {},
   "source": [
    "This line of code assigns the sample data to the variable 'data'. This is cool, because we can now analyze our text without having to type 'open('dss-sample-data.txt', 'r')' every time we want to do something with it. That's one of the cool things about variables.\n",
    "\n",
    "Let's first review our text document to make sure it's what we want. In pseudo-code, the following chunk asks the computer to return the text of the data file. Then we save that output to a variable so that we can call on it whenver we want.\n",
    "\n",
    "\n",
    "Press SHIFT + ENTER in the following chunk."
   ]
  },
  {
   "cell_type": "markdown",
   "metadata": {},
   "source": [
    "Great. It's displaying properly, which means that we have successfully loaded the file to the data variable. "
   ]
  },
  {
   "cell_type": "markdown",
   "metadata": {},
   "source": [
    "# Cleaning\n",
    "\n",
    "Our text is pretty clean (it was transcribed and annotated by hand, so it better be!) but before we work on it we need to do a few things. Notice how there are random characters, like \\n\\n (new line symbols)? These are all hidden characters that you don't see when you're typing, but that exist to format a document to your liking. We need to get rid of them, as well as a few other things:\n",
    "\n",
    "1) Remove capitalizations\n",
    "2) Remove punctuation\n",
    "3) Remove numbers\n",
    "4) Apply stopwords\n",
    "\n",
    "We'll do that by using one of the tools (libraries) we imported previously! Textify! There are a lot of different ways to do this work, and there are better (more thorough) ways to do it, but textify makes it really easy for us. Execute the chunk of code below by pressing SHIFT + ENTER."
   ]
  },
  {
   "cell_type": "code",
   "execution_count": 146,
   "metadata": {},
   "outputs": [
    {
     "name": "stdout",
     "output_type": "stream",
     "text": [
      "chapter iemma woodhouse handsome clever and rich with a comfortable homeand happy disposition seemed to unite some of the best blessings ofexistence and had lived nearly twentyone years in the world with verylittle to distress or vex hershe was the youngest of the two daughters of a most affectionateindulgent father and had in consequence of her sisters marriage beenmistress of his house from a very early period her mother had diedtoo long ago for her to have more than an indistinct remembrance ofher caresses and her place had been supplied by an excellent woman asgoverness who had fallen little short of a mother in affectionsixteen years had miss taylor been in mr woodhouses family less as agoverness than a friend very fond of both daughters but particularlyof emma between them it was more the intimacy of sisters even beforemiss taylor had ceased to hold the nominal office of governess themildness of her temper had hardly allowed her to impose any restraintand the shadow of authority \n"
     ]
    }
   ],
   "source": [
    "from textify import TextCleaner # we import a particular function from the library, Textify\n",
    "textcleaner = TextCleaner() # \n",
    "textcleaner.text = text # Taking the text and cleaning it with the utility function\n",
    "cleantext = textcleaner.clean_text() # printing the first 1000 characters from the above.\n",
    "print(cleantext[0:1000])"
   ]
  },
  {
   "cell_type": "markdown",
   "metadata": {},
   "source": [
    "Notice what happened? The Textify library manipulated your text. Name a few of the changes that you notice. \n",
    "\n",
    "Your text can definitely be more clean, but for now, this is good enough. Let's visualize word frequencies."
   ]
  },
  {
   "cell_type": "markdown",
   "metadata": {},
   "source": [
    "# Word frequencies"
   ]
  },
  {
   "cell_type": "markdown",
   "metadata": {},
   "source": [
    "Our clean text is ready to go (somewhat normalized). We need to split up this mass of prose into individual words, or tokens, and then count the number of times they appear. Let's do that next.\n",
    "\n",
    "Remember that NLTK library that we imported? Time to use it. NLTK stands for Natural Language Toolkit, and it's a library that has a bunch of tools for us to apply natural language proccessing. We're going to use some of the basic tools they provide. First, let's tokenize. Press SHIFT + ENTER on the next block of code. "
   ]
  },
  {
   "cell_type": "code",
   "execution_count": 254,
   "metadata": {},
   "outputs": [
    {
     "name": "stdout",
     "output_type": "stream",
     "text": [
      "['chapter', 'iemma', 'woodhouse', 'handsome', 'clever', 'and', 'rich', 'with', 'a', 'comfortable', 'homeand', 'happy', 'disposition', 'seemed', 'to', 'unite', 'some', 'of', 'the', 'best', 'blessings', 'ofexistence', 'and', 'had', 'lived', 'nearly', 'twentyone', 'years', 'in', 'the', 'world', 'with', 'verylittle', 'to', 'distress', 'or', 'vex', 'hershe', 'was', 'the', 'youngest', 'of', 'the', 'two', 'daughters', 'of', 'a', 'most', 'affectionateindulgent', 'father', 'and', 'had', 'in', 'consequence', 'of', 'her', 'sisters', 'marriage', 'beenmistress', 'of', 'his', 'house', 'from', 'a', 'very', 'early', 'period', 'her', 'mother', 'had', 'diedtoo', 'long', 'ago', 'for', 'her', 'to', 'have', 'more', 'than', 'an', 'indistinct', 'remembrance', 'ofher', 'caresses', 'and', 'her', 'place', 'had', 'been', 'supplied', 'by', 'an', 'excellent', 'woman', 'asgoverness', 'who', 'had', 'fallen', 'little', 'short']\n"
     ]
    }
   ],
   "source": [
    "# split into word tokens\n",
    "from nltk.tokenize import word_tokenize  # import a particular library and specific functions\n",
    "tokens = word_tokenize(cleantext) # setting the output of word_tokenize() to the variable tokens\n",
    "print(tokens[0:100]) # printing the first 100 tokenized words!"
   ]
  },
  {
   "cell_type": "code",
   "execution_count": 255,
   "metadata": {},
   "outputs": [
    {
     "name": "stderr",
     "output_type": "stream",
     "text": [
      "[nltk_data] Downloading package stopwords to\n",
      "[nltk_data]     /Users/calmurgu/nltk_data...\n",
      "[nltk_data]   Package stopwords is already up-to-date!\n"
     ]
    },
    {
     "data": {
      "text/plain": [
       "True"
      ]
     },
     "execution_count": 255,
     "metadata": {},
     "output_type": "execute_result"
    }
   ],
   "source": [
    "import nltk\n",
    "nltk.download('stopwords')"
   ]
  },
  {
   "cell_type": "markdown",
   "metadata": {},
   "source": [
    "Great. We have a list of words. Now we need to get rid of stop words. NLTK let's us do that, too. Click on the next cell and press SHIFT + ENTER."
   ]
  },
  {
   "cell_type": "code",
   "execution_count": 257,
   "metadata": {},
   "outputs": [
    {
     "name": "stdout",
     "output_type": "stream",
     "text": [
      "['i', 'me', 'my', 'myself', 'we', 'our', 'ours', 'ourselves', 'you', \"you're\", \"you've\", \"you'll\", \"you'd\", 'your', 'yours', 'yourself', 'yourselves', 'he', 'him', 'his', 'himself', 'she', \"she's\", 'her', 'hers', 'herself', 'it', \"it's\", 'its', 'itself', 'they', 'them', 'their', 'theirs', 'themselves', 'what', 'which', 'who', 'whom', 'this', 'that', \"that'll\", 'these', 'those', 'am', 'is', 'are', 'was', 'were', 'be', 'been', 'being', 'have', 'has', 'had', 'having', 'do', 'does', 'did', 'doing', 'a', 'an', 'the', 'and', 'but', 'if', 'or', 'because', 'as', 'until', 'while', 'of', 'at', 'by', 'for', 'with', 'about', 'against', 'between', 'into', 'through', 'during', 'before', 'after', 'above', 'below', 'to', 'from', 'up', 'down', 'in', 'out', 'on', 'off', 'over', 'under', 'again', 'further', 'then', 'once', 'here', 'there', 'when', 'where', 'why', 'how', 'all', 'any', 'both', 'each', 'few', 'more', 'most', 'other', 'some', 'such', 'no', 'nor', 'not', 'only', 'own', 'same', 'so', 'than', 'too', 'very', 's', 't', 'can', 'will', 'just', 'don', \"don't\", 'should', \"should've\", 'now', 'd', 'll', 'm', 'o', 're', 've', 'y', 'ain', 'aren', \"aren't\", 'couldn', \"couldn't\", 'didn', \"didn't\", 'doesn', \"doesn't\", 'hadn', \"hadn't\", 'hasn', \"hasn't\", 'haven', \"haven't\", 'isn', \"isn't\", 'ma', 'mightn', \"mightn't\", 'mustn', \"mustn't\", 'needn', \"needn't\", 'shan', \"shan't\", 'shouldn', \"shouldn't\", 'wasn', \"wasn't\", 'weren', \"weren't\", 'won', \"won't\", 'wouldn', \"wouldn't\"]\n"
     ]
    }
   ],
   "source": [
    "from nltk.corpus import stopwords # import the stopwords \n",
    "stop_words = stopwords.words('english') # set the stopwords list in english to the variable stop_words\n",
    "print(stop_words) # complete this function — what should we put in between the parentheses so that we print out a list of stopwords\n"
   ]
  },
  {
   "cell_type": "markdown",
   "metadata": {},
   "source": [
    "Good job! Above you see the list of stopwords that we will apply. \n",
    "\n",
    "Let's apply that stopwords list to our corpus. Press SHIFT + ENTER on the next cell."
   ]
  },
  {
   "cell_type": "code",
   "execution_count": 253,
   "metadata": {},
   "outputs": [
    {
     "name": "stdout",
     "output_type": "stream",
     "text": [
      "['chapter', 'iemma', 'woodhouse', 'handsome', 'clever', 'rich', 'comfortable', 'homeand', 'happy', 'disposition', 'seemed', 'unite', 'best', 'blessings', 'ofexistence', 'lived', 'nearly', 'twentyone', 'years', 'world', 'verylittle', 'distress', 'vex', 'hershe', 'youngest', 'two', 'daughters', 'affectionateindulgent', 'father', 'consequence', 'sisters', 'marriage', 'beenmistress', 'house', 'early', 'period', 'mother', 'diedtoo', 'long', 'ago', 'indistinct', 'remembrance', 'ofher', 'caresses', 'place', 'supplied', 'excellent', 'woman', 'asgoverness', 'fallen', 'little', 'short', 'mother', 'affectionsixteen', 'years', 'miss', 'taylor', 'mr', 'woodhouses', 'family', 'less', 'agoverness', 'friend', 'fond', 'daughters', 'particularlyof', 'emma', 'intimacy', 'sisters', 'even', 'beforemiss', 'taylor', 'ceased', 'hold', 'nominal', 'office', 'governess', 'themildness', 'temper', 'hardly', 'allowed', 'impose', 'restraintand', 'shadow', 'authority', 'long', 'passed', 'away', 'beenliving', 'together', 'friend', 'friend', 'mutually', 'attached', 'emmadoing', 'liked', 'highly', 'esteeming', 'miss', 'taylors']\n"
     ]
    }
   ],
   "source": [
    "from nltk.corpus import stopwords # import stopword lists\n",
    "stop_words = set(stopwords.words('english')) # set the list of stopwords to the variable stop_words\n",
    "words = [w for w in tokens if not w in stop_words] # Here we ask the program to add a word to the variable words so long as it's not a word in the stopwords list\n",
    "print(words[:100]) # let's print the first 100 words."
   ]
  },
  {
   "cell_type": "markdown",
   "metadata": {},
   "source": [
    "Now that we have the list of words we want to visualize, we need to count them. The following chunk does that for us by using a FOR function and an IF function. Basically, we're asking the program to iterate through the words list and count the number of times a word appears in the text. The output is the word, followed by it's frequency. "
   ]
  },
  {
   "cell_type": "code",
   "execution_count": 275,
   "metadata": {},
   "outputs": [
    {
     "data": {
      "text/plain": [
       "{'chapter': 1,\n",
       " 'iemma': 1,\n",
       " 'woodhouse': 1,\n",
       " 'handsome': 1,\n",
       " 'clever': 1,\n",
       " 'rich': 1,\n",
       " 'comfortable': 1,\n",
       " 'homeand': 1,\n",
       " 'happy': 1,\n",
       " 'disposition': 2,\n",
       " 'seemed': 1,\n",
       " 'unite': 1,\n",
       " 'best': 1,\n",
       " 'blessings': 1,\n",
       " 'ofexistence': 1,\n",
       " 'lived': 1,\n",
       " 'nearly': 1,\n",
       " 'twentyone': 1,\n",
       " 'years': 3,\n",
       " 'world': 1,\n",
       " 'verylittle': 1,\n",
       " 'distress': 1,\n",
       " 'vex': 1,\n",
       " 'hershe': 1,\n",
       " 'youngest': 1,\n",
       " 'two': 1,\n",
       " 'daughters': 2,\n",
       " 'affectionateindulgent': 1,\n",
       " 'father': 3,\n",
       " 'consequence': 1,\n",
       " 'sisters': 2,\n",
       " 'marriage': 2,\n",
       " 'beenmistress': 1,\n",
       " 'house': 1,\n",
       " 'early': 1,\n",
       " 'period': 1,\n",
       " 'mother': 2,\n",
       " 'diedtoo': 1,\n",
       " 'long': 3,\n",
       " 'ago': 1,\n",
       " 'indistinct': 1,\n",
       " 'remembrance': 1,\n",
       " 'ofher': 1,\n",
       " 'caresses': 1,\n",
       " 'place': 1,\n",
       " 'supplied': 1,\n",
       " 'excellent': 1,\n",
       " 'woman': 1,\n",
       " 'asgoverness': 1,\n",
       " 'fallen': 1,\n",
       " 'little': 2,\n",
       " 'short': 1,\n",
       " 'affectionsixteen': 1,\n",
       " 'miss': 4,\n",
       " 'taylor': 4,\n",
       " 'mr': 2,\n",
       " 'woodhouses': 1,\n",
       " 'family': 2,\n",
       " 'less': 1,\n",
       " 'agoverness': 1,\n",
       " 'friend': 6,\n",
       " 'fond': 1,\n",
       " 'particularlyof': 1,\n",
       " 'emma': 2,\n",
       " 'intimacy': 1,\n",
       " 'even': 1,\n",
       " 'beforemiss': 1,\n",
       " 'ceased': 1,\n",
       " 'hold': 1,\n",
       " 'nominal': 1,\n",
       " 'office': 1,\n",
       " 'governess': 1,\n",
       " 'themildness': 1,\n",
       " 'temper': 1,\n",
       " 'hardly': 1,\n",
       " 'allowed': 1,\n",
       " 'impose': 1,\n",
       " 'restraintand': 1,\n",
       " 'shadow': 1,\n",
       " 'authority': 1,\n",
       " 'passed': 1,\n",
       " 'away': 1,\n",
       " 'beenliving': 1,\n",
       " 'together': 2,\n",
       " 'mutually': 1,\n",
       " 'attached': 1,\n",
       " 'emmadoing': 1,\n",
       " 'liked': 1,\n",
       " 'highly': 1,\n",
       " 'esteeming': 1,\n",
       " 'taylors': 1,\n",
       " 'judgment': 1,\n",
       " 'butdirected': 1,\n",
       " 'chiefly': 1,\n",
       " 'ownthe': 1,\n",
       " 'real': 1,\n",
       " 'evils': 1,\n",
       " 'indeed': 1,\n",
       " 'emmas': 1,\n",
       " 'situation': 1,\n",
       " 'power': 1,\n",
       " 'havingrather': 1,\n",
       " 'much': 1,\n",
       " 'way': 1,\n",
       " 'think': 2,\n",
       " 'toowell': 1,\n",
       " 'disadvantages': 1,\n",
       " 'threatened': 1,\n",
       " 'alloy': 1,\n",
       " 'toher': 1,\n",
       " 'many': 1,\n",
       " 'enjoyments': 1,\n",
       " 'danger': 1,\n",
       " 'however': 1,\n",
       " 'present': 1,\n",
       " 'unperceivedthat': 1,\n",
       " 'means': 1,\n",
       " 'rank': 1,\n",
       " 'misfortunes': 1,\n",
       " 'hersorrow': 1,\n",
       " 'camea': 1,\n",
       " 'gentle': 2,\n",
       " 'sorrowbut': 1,\n",
       " 'shape': 1,\n",
       " 'anydisagreeable': 1,\n",
       " 'consciousnessmiss': 1,\n",
       " 'married': 1,\n",
       " 'taylorsloss': 1,\n",
       " 'first': 2,\n",
       " 'brought': 1,\n",
       " 'grief': 1,\n",
       " 'weddingday': 1,\n",
       " 'thisbeloved': 1,\n",
       " 'sat': 1,\n",
       " 'mournful': 1,\n",
       " 'thought': 2,\n",
       " 'anycontinuance': 1,\n",
       " 'wedding': 1,\n",
       " 'bridepeople': 1,\n",
       " 'gone': 1,\n",
       " 'andherself': 1,\n",
       " 'left': 2,\n",
       " 'dine': 1,\n",
       " 'prospect': 1,\n",
       " 'third': 1,\n",
       " 'cheera': 1,\n",
       " 'evening': 1,\n",
       " 'composed': 1,\n",
       " 'sleep': 1,\n",
       " 'dinner': 1,\n",
       " 'asusual': 1,\n",
       " 'sit': 1,\n",
       " 'lostthe': 1,\n",
       " 'event': 1,\n",
       " 'every': 6,\n",
       " 'promise': 1,\n",
       " 'happiness': 1,\n",
       " 'westonwas': 1,\n",
       " 'man': 1,\n",
       " 'unexceptionable': 1,\n",
       " 'character': 1,\n",
       " 'easy': 1,\n",
       " 'fortune': 1,\n",
       " 'suitable': 1,\n",
       " 'age': 1,\n",
       " 'andpleasant': 1,\n",
       " 'manners': 1,\n",
       " 'satisfaction': 1,\n",
       " 'consideringwith': 1,\n",
       " 'selfdenying': 1,\n",
       " 'generous': 1,\n",
       " 'friendship': 1,\n",
       " 'always': 1,\n",
       " 'wished': 1,\n",
       " 'andpromoted': 1,\n",
       " 'match': 1,\n",
       " 'black': 1,\n",
       " 'mornings': 1,\n",
       " 'work': 1,\n",
       " 'wantof': 1,\n",
       " 'would': 1,\n",
       " 'felt': 1,\n",
       " 'hour': 1,\n",
       " 'day': 1,\n",
       " 'recalled': 1,\n",
       " 'herpast': 1,\n",
       " 'kindnessthe': 1,\n",
       " 'kindness': 1,\n",
       " 'affection': 2,\n",
       " 'sixteen': 1,\n",
       " 'yearshow': 1,\n",
       " 'hadtaught': 1,\n",
       " 'played': 1,\n",
       " 'five': 1,\n",
       " 'oldhow': 1,\n",
       " 'haddevoted': 1,\n",
       " 'powers': 1,\n",
       " 'attach': 1,\n",
       " 'amuse': 1,\n",
       " 'healthand': 1,\n",
       " 'hownursed': 1,\n",
       " 'various': 1,\n",
       " 'illnesses': 1,\n",
       " 'childhood': 1,\n",
       " 'large': 1,\n",
       " 'debt': 1,\n",
       " 'ofgratitude': 1,\n",
       " 'owing': 1,\n",
       " 'intercourse': 1,\n",
       " 'last': 1,\n",
       " 'sevenyears': 1,\n",
       " 'equal': 1,\n",
       " 'footing': 1,\n",
       " 'perfect': 1,\n",
       " 'unreserve': 1,\n",
       " 'soon': 1,\n",
       " 'followedisabellas': 1,\n",
       " 'yet': 1,\n",
       " 'adearer': 1,\n",
       " 'tenderer': 1,\n",
       " 'recollection': 1,\n",
       " 'companion': 1,\n",
       " 'suchas': 1,\n",
       " 'possessed': 1,\n",
       " 'intelligent': 1,\n",
       " 'wellinformed': 1,\n",
       " 'useful': 1,\n",
       " 'knowingall': 1,\n",
       " 'ways': 1,\n",
       " 'interested': 2,\n",
       " 'concerns': 1,\n",
       " 'andpeculiarly': 1,\n",
       " 'pleasure': 1,\n",
       " 'scheme': 1,\n",
       " 'ofhersone': 1,\n",
       " 'could': 2,\n",
       " 'speak': 1,\n",
       " 'arose': 1,\n",
       " 'hadsuch': 1,\n",
       " 'never': 1,\n",
       " 'find': 1,\n",
       " 'fault': 1}"
      ]
     },
     "execution_count": 275,
     "metadata": {},
     "output_type": "execute_result"
    }
   ],
   "source": [
    "wordfreq = {}\n",
    "for w in words:\n",
    "    if w not in wordfreq:\n",
    "        wordfreq[w] = 0 \n",
    "    wordfreq[w] += 1\n",
    "\n",
    "wordfreq"
   ]
  },
  {
   "cell_type": "markdown",
   "metadata": {},
   "source": [
    "Since we have a WORD and the number of times the word appears in the text (Frequency), we can plot it!"
   ]
  },
  {
   "cell_type": "code",
   "execution_count": 277,
   "metadata": {
    "scrolled": true
   },
   "outputs": [
    {
     "data": {
      "text/html": [
       "<div>\n",
       "<style scoped>\n",
       "    .dataframe tbody tr th:only-of-type {\n",
       "        vertical-align: middle;\n",
       "    }\n",
       "\n",
       "    .dataframe tbody tr th {\n",
       "        vertical-align: top;\n",
       "    }\n",
       "\n",
       "    .dataframe thead th {\n",
       "        text-align: right;\n",
       "    }\n",
       "</style>\n",
       "<table border=\"1\" class=\"dataframe\">\n",
       "  <thead>\n",
       "    <tr style=\"text-align: right;\">\n",
       "      <th></th>\n",
       "      <th>index</th>\n",
       "      <th>0</th>\n",
       "    </tr>\n",
       "  </thead>\n",
       "  <tbody>\n",
       "    <tr>\n",
       "      <th>0</th>\n",
       "      <td>chapter</td>\n",
       "      <td>1</td>\n",
       "    </tr>\n",
       "    <tr>\n",
       "      <th>1</th>\n",
       "      <td>iemma</td>\n",
       "      <td>1</td>\n",
       "    </tr>\n",
       "    <tr>\n",
       "      <th>2</th>\n",
       "      <td>woodhouse</td>\n",
       "      <td>1</td>\n",
       "    </tr>\n",
       "    <tr>\n",
       "      <th>3</th>\n",
       "      <td>handsome</td>\n",
       "      <td>1</td>\n",
       "    </tr>\n",
       "    <tr>\n",
       "      <th>4</th>\n",
       "      <td>clever</td>\n",
       "      <td>1</td>\n",
       "    </tr>\n",
       "    <tr>\n",
       "      <th>...</th>\n",
       "      <td>...</td>\n",
       "      <td>...</td>\n",
       "    </tr>\n",
       "    <tr>\n",
       "      <th>237</th>\n",
       "      <td>arose</td>\n",
       "      <td>1</td>\n",
       "    </tr>\n",
       "    <tr>\n",
       "      <th>238</th>\n",
       "      <td>hadsuch</td>\n",
       "      <td>1</td>\n",
       "    </tr>\n",
       "    <tr>\n",
       "      <th>239</th>\n",
       "      <td>never</td>\n",
       "      <td>1</td>\n",
       "    </tr>\n",
       "    <tr>\n",
       "      <th>240</th>\n",
       "      <td>find</td>\n",
       "      <td>1</td>\n",
       "    </tr>\n",
       "    <tr>\n",
       "      <th>241</th>\n",
       "      <td>fault</td>\n",
       "      <td>1</td>\n",
       "    </tr>\n",
       "  </tbody>\n",
       "</table>\n",
       "<p>242 rows × 2 columns</p>\n",
       "</div>"
      ],
      "text/plain": [
       "         index  0\n",
       "0      chapter  1\n",
       "1        iemma  1\n",
       "2    woodhouse  1\n",
       "3     handsome  1\n",
       "4       clever  1\n",
       "..         ... ..\n",
       "237      arose  1\n",
       "238    hadsuch  1\n",
       "239      never  1\n",
       "240       find  1\n",
       "241      fault  1\n",
       "\n",
       "[242 rows x 2 columns]"
      ]
     },
     "metadata": {},
     "output_type": "display_data"
    },
    {
     "data": {
      "text/html": [
       "<div>\n",
       "<style scoped>\n",
       "    .dataframe tbody tr th:only-of-type {\n",
       "        vertical-align: middle;\n",
       "    }\n",
       "\n",
       "    .dataframe tbody tr th {\n",
       "        vertical-align: top;\n",
       "    }\n",
       "\n",
       "    .dataframe thead th {\n",
       "        text-align: right;\n",
       "    }\n",
       "</style>\n",
       "<table border=\"1\" class=\"dataframe\">\n",
       "  <thead>\n",
       "    <tr style=\"text-align: right;\">\n",
       "      <th></th>\n",
       "      <th>Word</th>\n",
       "      <th>Count</th>\n",
       "    </tr>\n",
       "  </thead>\n",
       "  <tbody>\n",
       "    <tr>\n",
       "      <th>0</th>\n",
       "      <td>chapter</td>\n",
       "      <td>1</td>\n",
       "    </tr>\n",
       "    <tr>\n",
       "      <th>1</th>\n",
       "      <td>iemma</td>\n",
       "      <td>1</td>\n",
       "    </tr>\n",
       "    <tr>\n",
       "      <th>2</th>\n",
       "      <td>woodhouse</td>\n",
       "      <td>1</td>\n",
       "    </tr>\n",
       "    <tr>\n",
       "      <th>3</th>\n",
       "      <td>handsome</td>\n",
       "      <td>1</td>\n",
       "    </tr>\n",
       "    <tr>\n",
       "      <th>4</th>\n",
       "      <td>clever</td>\n",
       "      <td>1</td>\n",
       "    </tr>\n",
       "    <tr>\n",
       "      <th>...</th>\n",
       "      <td>...</td>\n",
       "      <td>...</td>\n",
       "    </tr>\n",
       "    <tr>\n",
       "      <th>237</th>\n",
       "      <td>arose</td>\n",
       "      <td>1</td>\n",
       "    </tr>\n",
       "    <tr>\n",
       "      <th>238</th>\n",
       "      <td>hadsuch</td>\n",
       "      <td>1</td>\n",
       "    </tr>\n",
       "    <tr>\n",
       "      <th>239</th>\n",
       "      <td>never</td>\n",
       "      <td>1</td>\n",
       "    </tr>\n",
       "    <tr>\n",
       "      <th>240</th>\n",
       "      <td>find</td>\n",
       "      <td>1</td>\n",
       "    </tr>\n",
       "    <tr>\n",
       "      <th>241</th>\n",
       "      <td>fault</td>\n",
       "      <td>1</td>\n",
       "    </tr>\n",
       "  </tbody>\n",
       "</table>\n",
       "<p>242 rows × 2 columns</p>\n",
       "</div>"
      ],
      "text/plain": [
       "          Word  Count\n",
       "0      chapter      1\n",
       "1        iemma      1\n",
       "2    woodhouse      1\n",
       "3     handsome      1\n",
       "4       clever      1\n",
       "..         ...    ...\n",
       "237      arose      1\n",
       "238    hadsuch      1\n",
       "239      never      1\n",
       "240       find      1\n",
       "241      fault      1\n",
       "\n",
       "[242 rows x 2 columns]"
      ]
     },
     "metadata": {},
     "output_type": "display_data"
    },
    {
     "data": {
      "text/html": [
       "<div>\n",
       "<style scoped>\n",
       "    .dataframe tbody tr th:only-of-type {\n",
       "        vertical-align: middle;\n",
       "    }\n",
       "\n",
       "    .dataframe tbody tr th {\n",
       "        vertical-align: top;\n",
       "    }\n",
       "\n",
       "    .dataframe thead th {\n",
       "        text-align: right;\n",
       "    }\n",
       "</style>\n",
       "<table border=\"1\" class=\"dataframe\">\n",
       "  <thead>\n",
       "    <tr style=\"text-align: right;\">\n",
       "      <th></th>\n",
       "      <th>Word</th>\n",
       "      <th>Count</th>\n",
       "    </tr>\n",
       "  </thead>\n",
       "  <tbody>\n",
       "    <tr>\n",
       "      <th>154</th>\n",
       "      <td>every</td>\n",
       "      <td>6</td>\n",
       "    </tr>\n",
       "    <tr>\n",
       "      <th>60</th>\n",
       "      <td>friend</td>\n",
       "      <td>6</td>\n",
       "    </tr>\n",
       "    <tr>\n",
       "      <th>54</th>\n",
       "      <td>taylor</td>\n",
       "      <td>4</td>\n",
       "    </tr>\n",
       "    <tr>\n",
       "      <th>53</th>\n",
       "      <td>miss</td>\n",
       "      <td>4</td>\n",
       "    </tr>\n",
       "    <tr>\n",
       "      <th>28</th>\n",
       "      <td>father</td>\n",
       "      <td>3</td>\n",
       "    </tr>\n",
       "    <tr>\n",
       "      <th>...</th>\n",
       "      <td>...</td>\n",
       "      <td>...</td>\n",
       "    </tr>\n",
       "    <tr>\n",
       "      <th>94</th>\n",
       "      <td>ownthe</td>\n",
       "      <td>1</td>\n",
       "    </tr>\n",
       "    <tr>\n",
       "      <th>95</th>\n",
       "      <td>real</td>\n",
       "      <td>1</td>\n",
       "    </tr>\n",
       "    <tr>\n",
       "      <th>96</th>\n",
       "      <td>evils</td>\n",
       "      <td>1</td>\n",
       "    </tr>\n",
       "    <tr>\n",
       "      <th>97</th>\n",
       "      <td>indeed</td>\n",
       "      <td>1</td>\n",
       "    </tr>\n",
       "    <tr>\n",
       "      <th>241</th>\n",
       "      <td>fault</td>\n",
       "      <td>1</td>\n",
       "    </tr>\n",
       "  </tbody>\n",
       "</table>\n",
       "<p>242 rows × 2 columns</p>\n",
       "</div>"
      ],
      "text/plain": [
       "       Word  Count\n",
       "154   every      6\n",
       "60   friend      6\n",
       "54   taylor      4\n",
       "53     miss      4\n",
       "28   father      3\n",
       "..      ...    ...\n",
       "94   ownthe      1\n",
       "95     real      1\n",
       "96    evils      1\n",
       "97   indeed      1\n",
       "241   fault      1\n",
       "\n",
       "[242 rows x 2 columns]"
      ]
     },
     "metadata": {},
     "output_type": "display_data"
    },
    {
     "data": {
      "text/html": [
       "<div>\n",
       "<style scoped>\n",
       "    .dataframe tbody tr th:only-of-type {\n",
       "        vertical-align: middle;\n",
       "    }\n",
       "\n",
       "    .dataframe tbody tr th {\n",
       "        vertical-align: top;\n",
       "    }\n",
       "\n",
       "    .dataframe thead th {\n",
       "        text-align: right;\n",
       "    }\n",
       "</style>\n",
       "<table border=\"1\" class=\"dataframe\">\n",
       "  <thead>\n",
       "    <tr style=\"text-align: right;\">\n",
       "      <th></th>\n",
       "      <th>Word</th>\n",
       "      <th>Count</th>\n",
       "    </tr>\n",
       "  </thead>\n",
       "  <tbody>\n",
       "    <tr>\n",
       "      <th>154</th>\n",
       "      <td>every</td>\n",
       "      <td>6</td>\n",
       "    </tr>\n",
       "    <tr>\n",
       "      <th>60</th>\n",
       "      <td>friend</td>\n",
       "      <td>6</td>\n",
       "    </tr>\n",
       "    <tr>\n",
       "      <th>54</th>\n",
       "      <td>taylor</td>\n",
       "      <td>4</td>\n",
       "    </tr>\n",
       "    <tr>\n",
       "      <th>53</th>\n",
       "      <td>miss</td>\n",
       "      <td>4</td>\n",
       "    </tr>\n",
       "    <tr>\n",
       "      <th>28</th>\n",
       "      <td>father</td>\n",
       "      <td>3</td>\n",
       "    </tr>\n",
       "    <tr>\n",
       "      <th>38</th>\n",
       "      <td>long</td>\n",
       "      <td>3</td>\n",
       "    </tr>\n",
       "    <tr>\n",
       "      <th>18</th>\n",
       "      <td>years</td>\n",
       "      <td>3</td>\n",
       "    </tr>\n",
       "    <tr>\n",
       "      <th>30</th>\n",
       "      <td>sisters</td>\n",
       "      <td>2</td>\n",
       "    </tr>\n",
       "    <tr>\n",
       "      <th>55</th>\n",
       "      <td>mr</td>\n",
       "      <td>2</td>\n",
       "    </tr>\n",
       "    <tr>\n",
       "      <th>26</th>\n",
       "      <td>daughters</td>\n",
       "      <td>2</td>\n",
       "    </tr>\n",
       "    <tr>\n",
       "      <th>31</th>\n",
       "      <td>marriage</td>\n",
       "      <td>2</td>\n",
       "    </tr>\n",
       "    <tr>\n",
       "      <th>57</th>\n",
       "      <td>family</td>\n",
       "      <td>2</td>\n",
       "    </tr>\n",
       "    <tr>\n",
       "      <th>104</th>\n",
       "      <td>think</td>\n",
       "      <td>2</td>\n",
       "    </tr>\n",
       "    <tr>\n",
       "      <th>63</th>\n",
       "      <td>emma</td>\n",
       "      <td>2</td>\n",
       "    </tr>\n",
       "    <tr>\n",
       "      <th>83</th>\n",
       "      <td>together</td>\n",
       "      <td>2</td>\n",
       "    </tr>\n",
       "    <tr>\n",
       "      <th>121</th>\n",
       "      <td>gentle</td>\n",
       "      <td>2</td>\n",
       "    </tr>\n",
       "    <tr>\n",
       "      <th>229</th>\n",
       "      <td>interested</td>\n",
       "      <td>2</td>\n",
       "    </tr>\n",
       "    <tr>\n",
       "      <th>36</th>\n",
       "      <td>mother</td>\n",
       "      <td>2</td>\n",
       "    </tr>\n",
       "    <tr>\n",
       "      <th>50</th>\n",
       "      <td>little</td>\n",
       "      <td>2</td>\n",
       "    </tr>\n",
       "    <tr>\n",
       "      <th>9</th>\n",
       "      <td>disposition</td>\n",
       "      <td>2</td>\n",
       "    </tr>\n",
       "    <tr>\n",
       "      <th>188</th>\n",
       "      <td>affection</td>\n",
       "      <td>2</td>\n",
       "    </tr>\n",
       "    <tr>\n",
       "      <th>235</th>\n",
       "      <td>could</td>\n",
       "      <td>2</td>\n",
       "    </tr>\n",
       "    <tr>\n",
       "      <th>135</th>\n",
       "      <td>thought</td>\n",
       "      <td>2</td>\n",
       "    </tr>\n",
       "    <tr>\n",
       "      <th>128</th>\n",
       "      <td>first</td>\n",
       "      <td>2</td>\n",
       "    </tr>\n",
       "    <tr>\n",
       "      <th>141</th>\n",
       "      <td>left</td>\n",
       "      <td>2</td>\n",
       "    </tr>\n",
       "    <tr>\n",
       "      <th>168</th>\n",
       "      <td>consideringwith</td>\n",
       "      <td>1</td>\n",
       "    </tr>\n",
       "    <tr>\n",
       "      <th>169</th>\n",
       "      <td>selfdenying</td>\n",
       "      <td>1</td>\n",
       "    </tr>\n",
       "    <tr>\n",
       "      <th>167</th>\n",
       "      <td>satisfaction</td>\n",
       "      <td>1</td>\n",
       "    </tr>\n",
       "    <tr>\n",
       "      <th>166</th>\n",
       "      <td>manners</td>\n",
       "      <td>1</td>\n",
       "    </tr>\n",
       "    <tr>\n",
       "      <th>165</th>\n",
       "      <td>andpleasant</td>\n",
       "      <td>1</td>\n",
       "    </tr>\n",
       "  </tbody>\n",
       "</table>\n",
       "</div>"
      ],
      "text/plain": [
       "                Word  Count\n",
       "154            every      6\n",
       "60            friend      6\n",
       "54            taylor      4\n",
       "53              miss      4\n",
       "28            father      3\n",
       "38              long      3\n",
       "18             years      3\n",
       "30           sisters      2\n",
       "55                mr      2\n",
       "26         daughters      2\n",
       "31          marriage      2\n",
       "57            family      2\n",
       "104            think      2\n",
       "63              emma      2\n",
       "83          together      2\n",
       "121           gentle      2\n",
       "229       interested      2\n",
       "36            mother      2\n",
       "50            little      2\n",
       "9        disposition      2\n",
       "188        affection      2\n",
       "235            could      2\n",
       "135          thought      2\n",
       "128            first      2\n",
       "141             left      2\n",
       "168  consideringwith      1\n",
       "169      selfdenying      1\n",
       "167     satisfaction      1\n",
       "166          manners      1\n",
       "165      andpleasant      1"
      ]
     },
     "metadata": {},
     "output_type": "display_data"
    },
    {
     "data": {
      "text/plain": [
       "<matplotlib.axes._subplots.AxesSubplot at 0x13149ae90>"
      ]
     },
     "execution_count": 277,
     "metadata": {},
     "output_type": "execute_result"
    },
    {
     "data": {
      "image/png": "[encoded data removed]",
      "text/plain": [
       "<Figure size 432x288 with 1 Axes>"
      ]
     },
     "metadata": {},
     "output_type": "display_data"
    }
   ],
   "source": [
    "import pandas as pd # let's grab some libraries\n",
    "import numpy as np\n",
    "\n",
    "\n",
    "df = pd.Series(data=wordfreq).reset_index() # we create a variable called df (stands for dataframe), and we ask it to use the wordfreq variable as it's data\n",
    "\n",
    "display(df)\n",
    "\n",
    "df.columns = ['Word', 'Count'] # Without this, we don't have columns on our dataframe.\n",
    "\n",
    "display(df)\n",
    "\n",
    "df = df.sort_values(by='Count', ascending=False)\n",
    "\n",
    "display(df)\n",
    "\n",
    "df = df.nlargest(30, ['Count'])  # change the '10' to whatever number you want to see more words.\n",
    "\n",
    "display(df)\n",
    "\n",
    "df.plot.bar(x='Word', y='Count', rot=30)\n"
   ]
  },
  {
   "cell_type": "code",
   "execution_count": 280,
   "metadata": {},
   "outputs": [
    {
     "data": {
      "text/plain": [
       "<matplotlib.axes._subplots.AxesSubplot at 0x1313f9710>"
      ]
     },
     "execution_count": 280,
     "metadata": {},
     "output_type": "execute_result"
    },
    {
     "data": {
      "image/png": "[encoded data removed]",
      "text/plain": [
       "<Figure size 432x288 with 1 Axes>"
      ]
     },
     "metadata": {},
     "output_type": "display_data"
    }
   ],
   "source": [
    "# let's plot all of this work! \n",
    "\n",
    "df.plot.bar(x='Word', y='Count', rot=90)"
   ]
  },
  {
   "cell_type": "markdown",
   "metadata": {},
   "source": [
    "And, of course, what's exploratory text analysis without some wordclouds! "
   ]
  },
  {
   "cell_type": "code",
   "execution_count": 250,
   "metadata": {},
   "outputs": [
    {
     "data": {
      "text/plain": [
       "(-0.5, 399.5, 199.5, -0.5)"
      ]
     },
     "execution_count": 250,
     "metadata": {},
     "output_type": "execute_result"
    },
    {
     "data": {
      "image/png": "[encoded data removed]",
      "text/plain": [
       "<Figure size 432x288 with 1 Axes>"
      ]
     },
     "metadata": {},
     "output_type": "display_data"
    }
   ],
   "source": [
    "\n",
    "from wordcloud import WordCloud # import the wordcloud library\n",
    "\n",
    "wordcloud = WordCloud(max_font_size=100, max_words=100, background_color=\"white\").generate(text) # play around with the values and see what happens\n",
    "\n",
    "plt.imshow(wordcloud, interpolation='bilinear')\n",
    "plt.axis(\"off\")\n"
   ]
  },
  {
   "cell_type": "code",
   "execution_count": null,
   "metadata": {},
   "outputs": [],
   "source": []
  },
  {
   "cell_type": "code",
   "execution_count": null,
   "metadata": {},
   "outputs": [],
   "source": []
  },
  {
   "cell_type": "code",
   "execution_count": null,
   "metadata": {},
   "outputs": [],
   "source": []
  }
 ],
 "metadata": {
  "kernelspec": {
   "display_name": "Python 3",
   "language": "python",
   "name": "python3"
  },
  "language_info": {
   "codemirror_mode": {
    "name": "ipython",
    "version": 3
   },
   "file_extension": ".py",
   "mimetype": "text/x-python",
   "name": "python",
   "nbconvert_exporter": "python",
   "pygments_lexer": "ipython3",
   "version": "3.6.4"
  }
 },
 "nbformat": 4,
 "nbformat_minor": 4
}
